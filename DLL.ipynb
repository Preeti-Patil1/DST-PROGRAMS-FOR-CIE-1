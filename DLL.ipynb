{
  "nbformat": 4,
  "nbformat_minor": 0,
  "metadata": {
    "colab": {
      "provenance": []
    },
    "kernelspec": {
      "name": "python3",
      "display_name": "Python 3"
    },
    "language_info": {
      "name": "python"
    }
  },
  "cells": [
    {
      "cell_type": "code",
      "execution_count": null,
      "metadata": {
        "colab": {
          "base_uri": "https://localhost:8080/"
        },
        "id": "Xq76agDpHSgG",
        "outputId": "c72f8e90-bbe0-4ebb-f2e1-e5bf2847c958"
      },
      "outputs": [
        {
          "output_type": "stream",
          "name": "stdout",
          "text": [
            "2 <-> 1 <-> 3 <-> 4 <-> None\n",
            "1 <-> 3 <-> None\n"
          ]
        }
      ],
      "source": [
        "class Node:\n",
        "    def __init__(self, data):\n",
        "        self.data = data\n",
        "        self.next = None\n",
        "        self.prev = None\n",
        "\n",
        "class DoublyLinkedList:\n",
        "    def __init__(self):\n",
        "        self.head = None\n",
        "        self.tail = None\n",
        "\n",
        "    def insert_at_beginning(self, data):\n",
        "        new_node = Node(data)\n",
        "        if self.head is None:\n",
        "            self.head = self.tail = new_node\n",
        "        else:\n",
        "            new_node.next = self.head\n",
        "            self.head.prev = new_node\n",
        "            self.head = new_node\n",
        "\n",
        "    def insert_at_end(self, data):\n",
        "        new_node = Node(data)\n",
        "        if self.head is None:\n",
        "            self.head = self.tail = new_node\n",
        "        else:\n",
        "            new_node.prev = self.tail\n",
        "            self.tail.next = new_node\n",
        "            self.tail = new_node\n",
        "\n",
        "    def delete_at_beginning(self):\n",
        "        if self.head is None:\n",
        "            print(\"List is empty. Nothing to delete.\")\n",
        "            return\n",
        "        if self.head == self.tail:\n",
        "            self.head = self.tail = None\n",
        "        else:\n",
        "            self.head = self.head.next\n",
        "            self.head.prev = None\n",
        "\n",
        "    def delete_at_end(self):\n",
        "        if self.head is None:\n",
        "            print(\"List is empty. Nothing to delete.\")\n",
        "            return\n",
        "        if self.head == self.tail:\n",
        "            self.head = self.tail = None\n",
        "        else:\n",
        "            self.tail = self.tail.prev\n",
        "            self.tail.next = None\n",
        "\n",
        "    def traverse(self):\n",
        "        current = self.head\n",
        "        while current:\n",
        "            print(current.data, end=\" <-> \")\n",
        "            current = current.next\n",
        "        print(\"None\")\n",
        "\n",
        "\n",
        "dll = DoublyLinkedList()\n",
        "\n",
        "dll.insert_at_beginning(1)\n",
        "dll.insert_at_beginning(2)\n",
        "dll.insert_at_end(3)\n",
        "dll.insert_at_end(4)\n",
        "\n",
        "dll.traverse()\n",
        "\n",
        "dll.delete_at_beginning()\n",
        "dll.delete_at_end()\n",
        "\n",
        "dll.traverse()\n"
      ]
    },
    {
      "cell_type": "code",
      "source": [],
      "metadata": {
        "id": "qN41eNHrHepD"
      },
      "execution_count": null,
      "outputs": []
    }
  ]
}