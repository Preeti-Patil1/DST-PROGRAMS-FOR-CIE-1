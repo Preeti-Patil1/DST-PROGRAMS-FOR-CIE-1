{
  "nbformat": 4,
  "nbformat_minor": 0,
  "metadata": {
    "colab": {
      "provenance": []
    },
    "kernelspec": {
      "name": "python3",
      "display_name": "Python 3"
    },
    "language_info": {
      "name": "python"
    }
  },
  "cells": [
    {
      "cell_type": "code",
      "source": [
        "class Stack:\n",
        "    def __init__(self):\n",
        "        self.items = []\n",
        "\n",
        "    def is_empty(self):\n",
        "        return len(self.items) == 0\n",
        "\n",
        "    def push(self, item):\n",
        "        self.items.append(item)\n",
        "\n",
        "    def pop(self):\n",
        "        if not self.is_empty():\n",
        "            return self.items.pop()\n",
        "        else:\n",
        "            print(\"Stack is empty. Cannot pop.\")\n",
        "\n",
        "    def peek(self):\n",
        "        if not self.is_empty():\n",
        "            return self.items[-1]\n",
        "        else:\n",
        "            print(\"Stack is empty. Cannot peek.\")\n",
        "\n",
        "    def size(self):\n",
        "        return len(self.items)\n",
        "\n",
        "\n",
        "# Example usage:\n",
        "stack = Stack()\n",
        "\n",
        "stack.push(1)\n",
        "stack.push(2)\n",
        "stack.push(3)\n",
        "\n",
        "print(\"Stack:\", stack.items)  # Output: Stack: [1, 2, 3]\n",
        "print(\"Peek:\", stack.peek())   # Output: Peek: 3\n",
        "print(\"Size:\", stack.size())   # Output: Size: 3\n",
        "\n",
        "popped_item = stack.pop()\n",
        "print(\"Popped:\", popped_item)  # Output: Popped: 3\n",
        "print(\"Stack:\", stack.items)    # Output: Stack: [1, 2]\n"
      ],
      "metadata": {
        "colab": {
          "base_uri": "https://localhost:8080/"
        },
        "id": "rgJSWbdJKG8r",
        "outputId": "276b9359-fe5f-4bb2-a53c-c005919ab150"
      },
      "execution_count": 3,
      "outputs": [
        {
          "output_type": "stream",
          "name": "stdout",
          "text": [
            "Stack: [1, 2, 3]\n",
            "Peek: 3\n",
            "Size: 3\n",
            "Popped: 3\n",
            "Stack: [1, 2]\n"
          ]
        }
      ]
    },
    {
      "cell_type": "code",
      "source": [
        "class Stack:\n",
        "    def __init__(self):\n",
        "        self.items = []\n",
        "\n",
        "    def is_empty(self):\n",
        "        return len(self.items) == 0\n",
        "\n",
        "    def push(self, item):\n",
        "        self.items.append(item)\n",
        "        print(f\"Pushed {item} onto the stack.\")\n",
        "\n",
        "    def pop(self):\n",
        "        if not self.is_empty():\n",
        "            popped_item = self.items.pop()\n",
        "            print(f\"Popped {popped_item} from the stack.\")\n",
        "            return popped_item\n",
        "        else:\n",
        "            print(\"Stack is empty. Cannot pop.\")\n",
        "\n",
        "    def peek(self):\n",
        "        if not self.is_empty():\n",
        "            print(f\"Peeked: {self.items[-1]}\")\n",
        "            return self.items[-1]\n",
        "        else:\n",
        "            print(\"Stack is empty. Cannot peek.\")\n",
        "\n",
        "    def size(self):\n",
        "        size = len(self.items)\n",
        "        print(f\"Size of the stack: {size}\")\n",
        "        return size\n",
        "\n",
        "\n",
        "# Example usage with user choices:\n",
        "stack = Stack()\n",
        "\n",
        "while True:\n",
        "    print(\"\\nStack Operations:\")\n",
        "    print(\"1. Push\")\n",
        "    print(\"2. Pop\")\n",
        "    print(\"3. Peek\")\n",
        "    print(\"4. Size\")\n",
        "    print(\"5. Exit\")\n",
        "\n",
        "    choice = input(\"Enter your choice (1-5): \")\n",
        "\n",
        "    if choice == \"1\":\n",
        "        item = input(\"Enter the item to push onto the stack: \")\n",
        "        stack.push(item)\n",
        "    elif choice == \"2\":\n",
        "        stack.pop()\n",
        "    elif choice == \"3\":\n",
        "        stack.peek()\n",
        "    elif choice == \"4\":\n",
        "        stack.size()\n",
        "    elif choice == \"5\":\n",
        "        print(\"Exiting the program. Goodbye!\")\n",
        "        break\n",
        "    else:\n",
        "        print(\"Invalid choice. Please enter a number between 1 and 5.\")\n"
      ],
      "metadata": {
        "colab": {
          "base_uri": "https://localhost:8080/"
        },
        "id": "CLzp2D4oILF2",
        "outputId": "fd60a637-7611-4562-afa1-477fe4407195"
      },
      "execution_count": 2,
      "outputs": [
        {
          "output_type": "stream",
          "name": "stdout",
          "text": [
            "\n",
            "Stack Operations:\n",
            "1. Push\n",
            "2. Pop\n",
            "3. Peek\n",
            "4. Size\n",
            "5. Exit\n",
            "Enter your choice (1-5): 1\n",
            "Enter the item to push onto the stack: 1\n",
            "Pushed 1 onto the stack.\n",
            "\n",
            "Stack Operations:\n",
            "1. Push\n",
            "2. Pop\n",
            "3. Peek\n",
            "4. Size\n",
            "5. Exit\n",
            "Enter your choice (1-5): 1\n",
            "Enter the item to push onto the stack: 13\n",
            "Pushed 13 onto the stack.\n",
            "\n",
            "Stack Operations:\n",
            "1. Push\n",
            "2. Pop\n",
            "3. Peek\n",
            "4. Size\n",
            "5. Exit\n",
            "Enter your choice (1-5): 5\n",
            "Exiting the program. Goodbye!\n"
          ]
        }
      ]
    },
    {
      "cell_type": "code",
      "source": [],
      "metadata": {
        "id": "2KM88eKHI-99"
      },
      "execution_count": null,
      "outputs": []
    }
  ]
}