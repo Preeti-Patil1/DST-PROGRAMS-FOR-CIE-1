{
  "nbformat": 4,
  "nbformat_minor": 0,
  "metadata": {
    "colab": {
      "provenance": []
    },
    "kernelspec": {
      "name": "python3",
      "display_name": "Python 3"
    },
    "language_info": {
      "name": "python"
    }
  },
  "cells": [
    {
      "cell_type": "code",
      "source": [
        " class Node:\n",
        "    def __init__(self, data):\n",
        "        self.data = data\n",
        "        self.next = None\n",
        "\n",
        "\n",
        "class LinkedList:\n",
        "    def __init__(self):\n",
        "        self.head = None\n",
        "\n",
        "    def insert_at_beginning(self, data):\n",
        "        new_node = Node(data)\n",
        "        new_node.next = self.head\n",
        "        self.head = new_node\n",
        "\n",
        "    def insert_at_end(self, data):\n",
        "        new_node = Node(data)\n",
        "        if not self.head:\n",
        "            self.head = new_node\n",
        "            return\n",
        "        last_node = self.head\n",
        "        while last_node.next:\n",
        "            last_node = last_node.next\n",
        "        last_node.next = new_node\n",
        "\n",
        "    def delete_at_beginning(self):\n",
        "        if not self.head:\n",
        "            print(\"List is empty. Cannot delete.\")\n",
        "            return\n",
        "        self.head = self.head.next\n",
        "\n",
        "    def delete_at_end(self):\n",
        "        if not self.head:\n",
        "            print(\"List is empty. Cannot delete.\")\n",
        "            return\n",
        "        if not self.head.next:\n",
        "            self.head = None\n",
        "            return\n",
        "        current_node = self.head\n",
        "        while current_node.next.next:\n",
        "            current_node = current_node.next\n",
        "        current_node.next = None\n",
        "\n",
        "    def traverse(self):\n",
        "        current_node = self.head\n",
        "        while current_node:\n",
        "            print(current_node.data, end=\" \")\n",
        "            current_node = current_node.next\n",
        "        print()\n",
        "\n",
        "\n",
        "# Example usage:\n",
        "linked_list = LinkedList()\n",
        "\n",
        "linked_list.insert_at_beginning(3)\n",
        "linked_list.insert_at_beginning(2)\n",
        "linked_list.insert_at_beginning(1)\n",
        "\n",
        "linked_list.insert_at_end(4)\n",
        "linked_list.insert_at_end(5)\n",
        "\n",
        "print(\"Initial linked list:\")\n",
        "linked_list.traverse()\n",
        "\n",
        "linked_list.delete_at_beginning()\n",
        "linked_list.delete_at_end()\n",
        "\n",
        "print(\"Linked list after deletion:\")\n",
        "linked_list.traverse()\n"
      ],
      "metadata": {
        "colab": {
          "base_uri": "https://localhost:8080/"
        },
        "id": "scmhbcNaDv0f",
        "outputId": "c20dd204-c6cc-4e59-d0fe-23625791d736"
      },
      "execution_count": null,
      "outputs": [
        {
          "output_type": "stream",
          "name": "stdout",
          "text": [
            "Initial linked list:\n",
            "1 2 3 4 5 \n",
            "Linked list after deletion:\n",
            "2 3 4 \n"
          ]
        }
      ]
    },
    {
      "cell_type": "code",
      "source": [],
      "metadata": {
        "id": "le_cJMPdEoYO"
      },
      "execution_count": null,
      "outputs": []
    }
  ]
}